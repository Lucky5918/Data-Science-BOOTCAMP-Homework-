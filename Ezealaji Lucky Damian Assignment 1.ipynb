{
 "cells": [
  {
   "cell_type": "markdown",
   "id": "efe6f466-2fe3-4e70-895a-0782a43893bc",
   "metadata": {},
   "source": [
    "**EZEALAJI LUCKY DAMIAN**\n",
    "\n",
    "**SOLUTIONS TO ASSIGNMENT ONE**"
   ]
  },
  {
   "cell_type": "code",
   "execution_count": null,
   "id": "790e17a2-5584-4ee8-95e9-f96d713a4108",
   "metadata": {},
   "outputs": [],
   "source": []
  },
  {
   "cell_type": "markdown",
   "id": "a10d35bf-d0c0-4fff-b858-2c30ed7b1933",
   "metadata": {
    "tags": []
   },
   "source": [
    "**QUESTION ONE**"
   ]
  },
  {
   "cell_type": "code",
   "execution_count": 1,
   "id": "19fd8586-01c3-4122-a5cd-44d2c964f33c",
   "metadata": {},
   "outputs": [],
   "source": [
    "\n",
    "def weekly_overtime_pay():\n",
    "    standard_work_hours = 40\n",
    "    regular_hourly_pay = 45\n",
    "    over_time_pay_rate = 50\n",
    "    total_hour_worked = float(input(\"Enter the total number of hours you worked in the week:\"))\n",
    "    base_pay = standard_work_hours * regular_hourly_pay\n",
    "    over_time_hours = total_hour_worked - standard_work_hours\n",
    "    over_time_pay = over_time_hours * over_time_pay_rate\n",
    "    gross_pay = base_pay + over_time_pay\n",
    "    if total_hour_worked < standard_work_hours:\n",
    "        print(\"Standard number of weekly work hours: \" \"{}hrs\".format(standard_work_hours))\n",
    "        print(\"Total number of hours worked: \" \"{}hrs\".format(total_hour_worked))\n",
    "        print(\"You worked less than the required number of hours this week.\")\n",
    "        print(\"Your pay this week is: \" + \"$\" + str(total_hour_worked * regular_hourly_pay))\n",
    "    elif total_hour_worked > standard_work_hours:\n",
    "        print(\"Standard number of weekly work hours: \" \"{}hrs\".format(standard_work_hours))\n",
    "        print(\"Total number of hours worked: \" \"{}hrs\".format(total_hour_worked))\n",
    "        print(\"This week you have an overtime of: \" \"{}hrs.\".format(over_time_hours),\\\n",
    "            \"Your pay this week is: \" \"${}.\".format(gross_pay))\n",
    "    else:\n",
    "        print(\"Standard number of weekly work hours: \" \"{}hrs\".format(standard_work_hours))\n",
    "        print(\"Total number of hours worked: \" \"{}hrs\".format(total_hour_worked))\n",
    "        print(\"You do not have an overtime this week.\",\\\n",
    "            \"Your pay this week is: \" \"${}.\".format(base_pay)) "
   ]
  },
  {
   "cell_type": "code",
   "execution_count": 2,
   "id": "4bbc49c7-c7e3-4bd5-801b-0c48c454831e",
   "metadata": {},
   "outputs": [
    {
     "name": "stdin",
     "output_type": "stream",
     "text": [
      "Enter the total number of hours you worked in the week: 65\n"
     ]
    },
    {
     "name": "stdout",
     "output_type": "stream",
     "text": [
      "Standard number of weekly work hours: 40hrs\n",
      "Total number of hours worked: 65.0hrs\n",
      "This week you have an overtime of: 25.0hrs. Your pay this week is: $3050.0.\n"
     ]
    }
   ],
   "source": [
    "weekly_overtime_pay()"
   ]
  },
  {
   "cell_type": "code",
   "execution_count": null,
   "id": "33569b07-6ad7-42aa-ab11-2913525d7aaf",
   "metadata": {},
   "outputs": [],
   "source": []
  },
  {
   "cell_type": "markdown",
   "id": "063aeb88-da62-4109-b18a-02f78920fb3c",
   "metadata": {},
   "source": [
    "**QUESTION TWO**"
   ]
  },
  {
   "cell_type": "code",
   "execution_count": 3,
   "id": "c14a5b44-0f37-462b-964e-5d34762f17ec",
   "metadata": {},
   "outputs": [
    {
     "name": "stdin",
     "output_type": "stream",
     "text": [
      "Enter a float value 23.5\n",
      "Enter a float value 14.8\n",
      "Enter a float value 65.4\n",
      "Enter a float value 74.3\n",
      "Enter a float value 7\n",
      "Enter a float value 2\n",
      "Enter a float value 6\n",
      "Enter a float value 98.6\n",
      "Enter a float value 60.5\n",
      "Enter a float value 100.4\n"
     ]
    },
    {
     "name": "stdout",
     "output_type": "stream",
     "text": [
      "[23.5, 14.8, 65.4, 74.3, 7.0, 2.0, 6.0, 98.6, 60.5, 100.4]\n"
     ]
    }
   ],
   "source": [
    "# Requesting user to input 10 float values which is stored in a variable.\n",
    "\n",
    "mylist1 = []\n",
    "m = 10\n",
    "for num in range(m):\n",
    "    fig = float(input(\"Enter a float value\"))\n",
    "    mylist1.append(fig)\n",
    "print(mylist1)"
   ]
  },
  {
   "cell_type": "code",
   "execution_count": 4,
   "id": "56127fe4-6f9d-4de5-861c-fa6223f6d18b",
   "metadata": {},
   "outputs": [
    {
     "name": "stdout",
     "output_type": "stream",
     "text": [
      "[[23.5, 14.8, 65.4, 74.3, 7.0, 2.0, 6.0, 98.6, 60.5, 100.4]]\n"
     ]
    }
   ],
   "source": [
    "# List comprehension of mylist1\n",
    "\n",
    "mylist2 = [mylist1 for item in range(1)]\n",
    "print(mylist2)"
   ]
  },
  {
   "cell_type": "code",
   "execution_count": 5,
   "id": "e5e56b18-a492-4679-9971-8b181b2263b8",
   "metadata": {},
   "outputs": [],
   "source": [
    "mylist3 = mylist2[0]"
   ]
  },
  {
   "cell_type": "code",
   "execution_count": 6,
   "id": "b46f04ea-909d-4f6c-bc08-ad6b312cb0cf",
   "metadata": {},
   "outputs": [
    {
     "data": {
      "text/plain": [
       "[23.5, 14.8, 65.4, 74.3, 7.0, 2.0, 6.0, 98.6, 60.5, 100.4]"
      ]
     },
     "execution_count": 6,
     "metadata": {},
     "output_type": "execute_result"
    }
   ],
   "source": [
    "# Sorting of mylist3\n",
    "\n",
    "mylist3"
   ]
  },
  {
   "cell_type": "code",
   "execution_count": 7,
   "id": "6e00f415-eff6-4751-86e3-aff2c580f62b",
   "metadata": {},
   "outputs": [],
   "source": [
    "mylist3.sort()"
   ]
  },
  {
   "cell_type": "code",
   "execution_count": 8,
   "id": "8fd54fab-a1fe-43f0-92fc-acb4a0c7c09a",
   "metadata": {
    "tags": []
   },
   "outputs": [
    {
     "data": {
      "text/plain": [
       "[2.0, 6.0, 7.0, 14.8, 23.5, 60.5, 65.4, 74.3, 98.6, 100.4]"
      ]
     },
     "execution_count": 8,
     "metadata": {},
     "output_type": "execute_result"
    }
   ],
   "source": [
    "mylist3"
   ]
  },
  {
   "cell_type": "code",
   "execution_count": null,
   "id": "7085b2d0-2956-460d-960d-6f5e42c9bca6",
   "metadata": {},
   "outputs": [],
   "source": []
  },
  {
   "cell_type": "markdown",
   "id": "1899f5bb-5fd8-4750-90a5-6e0a5f8fef1c",
   "metadata": {},
   "source": [
    "**QUESTION THREE**\n"
   ]
  },
  {
   "cell_type": "code",
   "execution_count": 9,
   "id": "be3fbfd3-9a5b-43af-94e0-fd67597a25de",
   "metadata": {},
   "outputs": [],
   "source": [
    "# Write a program that creates a single dictionary containing the following key-value pairs\n",
    "\n",
    "mydict1 = {\"School\":\"MTSU\", \"Textbooks\":14, \"Level\":\"Elementary\", \"Hobby\":\"Dancing\", \"Height\":\"4.5 inch\", \"Food\":\"Amala\"}"
   ]
  },
  {
   "cell_type": "code",
   "execution_count": 10,
   "id": "ccd349de-a2ea-4e88-b651-6e24e81be8c6",
   "metadata": {},
   "outputs": [
    {
     "data": {
      "text/plain": [
       "{'School': 'MTSU',\n",
       " 'Textbooks': 14,\n",
       " 'Level': 'Elementary',\n",
       " 'Hobby': 'Dancing',\n",
       " 'Height': '4.5 inch',\n",
       " 'Food': 'Amala'}"
      ]
     },
     "execution_count": 10,
     "metadata": {},
     "output_type": "execute_result"
    }
   ],
   "source": [
    "mydict1"
   ]
  },
  {
   "cell_type": "code",
   "execution_count": 11,
   "id": "c8563cc5-06e8-46f0-9b05-7f461164ccf9",
   "metadata": {},
   "outputs": [],
   "source": [
    "# Update the dictionary with your credentials\n",
    "\n",
    "mydict1.update({\"School\":\"Nnamdi Azikiwe University, Awka\",\"Textbooks\":10,\"Level\":\"Masters\",\"Hobby\":\"Coding\",\"Height\":\"5.2 inch\",\"Food\":\"Fried rice and chicken\"})"
   ]
  },
  {
   "cell_type": "code",
   "execution_count": 12,
   "id": "178229f0-ff11-43bd-9bf7-a5b165ad0dd9",
   "metadata": {},
   "outputs": [
    {
     "data": {
      "text/plain": [
       "{'School': 'Nnamdi Azikiwe University, Awka',\n",
       " 'Textbooks': 10,\n",
       " 'Level': 'Masters',\n",
       " 'Hobby': 'Coding',\n",
       " 'Height': '5.2 inch',\n",
       " 'Food': 'Fried rice and chicken'}"
      ]
     },
     "execution_count": 12,
     "metadata": {},
     "output_type": "execute_result"
    }
   ],
   "source": [
    "mydict1"
   ]
  },
  {
   "cell_type": "code",
   "execution_count": 13,
   "id": "12fcd069-7c01-433b-a1a2-3fbd352b81f3",
   "metadata": {},
   "outputs": [],
   "source": [
    "# Add new key-value pairs\n",
    "\n",
    "mydict1[\"Is_location_USA\"] = \"True\""
   ]
  },
  {
   "cell_type": "code",
   "execution_count": 14,
   "id": "37750b40-697c-4f44-bac2-d9116704ce8a",
   "metadata": {},
   "outputs": [
    {
     "data": {
      "text/plain": [
       "{'School': 'Nnamdi Azikiwe University, Awka',\n",
       " 'Textbooks': 10,\n",
       " 'Level': 'Masters',\n",
       " 'Hobby': 'Coding',\n",
       " 'Height': '5.2 inch',\n",
       " 'Food': 'Fried rice and chicken',\n",
       " 'Is_location_USA': 'True'}"
      ]
     },
     "execution_count": 14,
     "metadata": {},
     "output_type": "execute_result"
    }
   ],
   "source": [
    "mydict1"
   ]
  },
  {
   "cell_type": "code",
   "execution_count": 15,
   "id": "292765b7-fa2e-459c-8719-a673601c30e3",
   "metadata": {},
   "outputs": [],
   "source": [
    "mydict1[\"Is_graduated\"] = \"No\""
   ]
  },
  {
   "cell_type": "code",
   "execution_count": 16,
   "id": "1810f006-be2e-4055-a457-f91962906c8c",
   "metadata": {},
   "outputs": [
    {
     "data": {
      "text/plain": [
       "{'School': 'Nnamdi Azikiwe University, Awka',\n",
       " 'Textbooks': 10,\n",
       " 'Level': 'Masters',\n",
       " 'Hobby': 'Coding',\n",
       " 'Height': '5.2 inch',\n",
       " 'Food': 'Fried rice and chicken',\n",
       " 'Is_location_USA': 'True',\n",
       " 'Is_graduated': 'No'}"
      ]
     },
     "execution_count": 16,
     "metadata": {},
     "output_type": "execute_result"
    }
   ],
   "source": [
    "mydict1"
   ]
  },
  {
   "cell_type": "code",
   "execution_count": 17,
   "id": "e5d8b3ac-be0d-478f-b169-a6d102b359f4",
   "metadata": {},
   "outputs": [
    {
     "data": {
      "text/plain": [
       "'Coding'"
      ]
     },
     "execution_count": 17,
     "metadata": {},
     "output_type": "execute_result"
    }
   ],
   "source": [
    "# Remove the key-value pair Hobby:Dancing\n",
    "\n",
    "mydict1.pop(\"Hobby\")"
   ]
  },
  {
   "cell_type": "code",
   "execution_count": 18,
   "id": "d6084a11-63ff-4195-913f-96d9a90e68a8",
   "metadata": {},
   "outputs": [
    {
     "data": {
      "text/plain": [
       "{'School': 'Nnamdi Azikiwe University, Awka',\n",
       " 'Textbooks': 10,\n",
       " 'Level': 'Masters',\n",
       " 'Height': '5.2 inch',\n",
       " 'Food': 'Fried rice and chicken',\n",
       " 'Is_location_USA': 'True',\n",
       " 'Is_graduated': 'No'}"
      ]
     },
     "execution_count": 18,
     "metadata": {},
     "output_type": "execute_result"
    }
   ],
   "source": [
    "mydict1"
   ]
  },
  {
   "cell_type": "code",
   "execution_count": 19,
   "id": "bf06b281-fe34-4927-9537-bd79ffa1dae1",
   "metadata": {},
   "outputs": [
    {
     "data": {
      "text/plain": [
       "('Is_graduated', 'No')"
      ]
     },
     "execution_count": 19,
     "metadata": {},
     "output_type": "execute_result"
    }
   ],
   "source": [
    "# Delete last entry of the updated dictionary\n",
    "\n",
    "mydict1.popitem()"
   ]
  },
  {
   "cell_type": "code",
   "execution_count": 20,
   "id": "0eba2fc2-303c-4839-b417-e52c3a7b113a",
   "metadata": {},
   "outputs": [
    {
     "data": {
      "text/plain": [
       "{'School': 'Nnamdi Azikiwe University, Awka',\n",
       " 'Textbooks': 10,\n",
       " 'Level': 'Masters',\n",
       " 'Height': '5.2 inch',\n",
       " 'Food': 'Fried rice and chicken',\n",
       " 'Is_location_USA': 'True'}"
      ]
     },
     "execution_count": 20,
     "metadata": {},
     "output_type": "execute_result"
    }
   ],
   "source": [
    "mydict1"
   ]
  },
  {
   "cell_type": "code",
   "execution_count": null,
   "id": "d8ad5f9b-0ca9-435d-8fef-9e1ad7eed129",
   "metadata": {},
   "outputs": [],
   "source": []
  },
  {
   "cell_type": "markdown",
   "id": "54f3d6c6-acc3-4c72-9714-5fb8b2ce6d1f",
   "metadata": {},
   "source": [
    "**QUESTION FOUR**"
   ]
  },
  {
   "cell_type": "code",
   "execution_count": 21,
   "id": "b7ad928c-51e0-425e-aa38-0c56794dca91",
   "metadata": {},
   "outputs": [],
   "source": [
    "import numpy as np"
   ]
  },
  {
   "cell_type": "code",
   "execution_count": 22,
   "id": "ddfb92c5-f447-444d-a171-9cd483f6d42e",
   "metadata": {},
   "outputs": [],
   "source": [
    "# Create an Array of ones of size 20 by 11 called myarray1\n",
    "\n",
    "myarray1 = np.ones((20,11),dtype = float)"
   ]
  },
  {
   "cell_type": "code",
   "execution_count": 23,
   "id": "3b08cdd7-0b4f-4066-bcab-2fc7cfb4c4dd",
   "metadata": {},
   "outputs": [
    {
     "data": {
      "text/plain": [
       "array([[1., 1., 1., 1., 1., 1., 1., 1., 1., 1., 1.],\n",
       "       [1., 1., 1., 1., 1., 1., 1., 1., 1., 1., 1.],\n",
       "       [1., 1., 1., 1., 1., 1., 1., 1., 1., 1., 1.],\n",
       "       [1., 1., 1., 1., 1., 1., 1., 1., 1., 1., 1.],\n",
       "       [1., 1., 1., 1., 1., 1., 1., 1., 1., 1., 1.],\n",
       "       [1., 1., 1., 1., 1., 1., 1., 1., 1., 1., 1.],\n",
       "       [1., 1., 1., 1., 1., 1., 1., 1., 1., 1., 1.],\n",
       "       [1., 1., 1., 1., 1., 1., 1., 1., 1., 1., 1.],\n",
       "       [1., 1., 1., 1., 1., 1., 1., 1., 1., 1., 1.],\n",
       "       [1., 1., 1., 1., 1., 1., 1., 1., 1., 1., 1.],\n",
       "       [1., 1., 1., 1., 1., 1., 1., 1., 1., 1., 1.],\n",
       "       [1., 1., 1., 1., 1., 1., 1., 1., 1., 1., 1.],\n",
       "       [1., 1., 1., 1., 1., 1., 1., 1., 1., 1., 1.],\n",
       "       [1., 1., 1., 1., 1., 1., 1., 1., 1., 1., 1.],\n",
       "       [1., 1., 1., 1., 1., 1., 1., 1., 1., 1., 1.],\n",
       "       [1., 1., 1., 1., 1., 1., 1., 1., 1., 1., 1.],\n",
       "       [1., 1., 1., 1., 1., 1., 1., 1., 1., 1., 1.],\n",
       "       [1., 1., 1., 1., 1., 1., 1., 1., 1., 1., 1.],\n",
       "       [1., 1., 1., 1., 1., 1., 1., 1., 1., 1., 1.],\n",
       "       [1., 1., 1., 1., 1., 1., 1., 1., 1., 1., 1.]])"
      ]
     },
     "execution_count": 23,
     "metadata": {},
     "output_type": "execute_result"
    }
   ],
   "source": [
    "myarray1"
   ]
  },
  {
   "cell_type": "code",
   "execution_count": 24,
   "id": "6824e1c2-7528-49dd-9501-6fc6ed118556",
   "metadata": {},
   "outputs": [],
   "source": [
    "# Multiply scalar of 0.5 by the array\n",
    "\n",
    "myarray1 = myarray1 * 0.5"
   ]
  },
  {
   "cell_type": "code",
   "execution_count": 25,
   "id": "73bd4c56-ac04-4e9c-b43f-ba7e7e3d9fce",
   "metadata": {},
   "outputs": [
    {
     "data": {
      "text/plain": [
       "array([[0.5, 0.5, 0.5, 0.5, 0.5, 0.5, 0.5, 0.5, 0.5, 0.5, 0.5],\n",
       "       [0.5, 0.5, 0.5, 0.5, 0.5, 0.5, 0.5, 0.5, 0.5, 0.5, 0.5],\n",
       "       [0.5, 0.5, 0.5, 0.5, 0.5, 0.5, 0.5, 0.5, 0.5, 0.5, 0.5],\n",
       "       [0.5, 0.5, 0.5, 0.5, 0.5, 0.5, 0.5, 0.5, 0.5, 0.5, 0.5],\n",
       "       [0.5, 0.5, 0.5, 0.5, 0.5, 0.5, 0.5, 0.5, 0.5, 0.5, 0.5],\n",
       "       [0.5, 0.5, 0.5, 0.5, 0.5, 0.5, 0.5, 0.5, 0.5, 0.5, 0.5],\n",
       "       [0.5, 0.5, 0.5, 0.5, 0.5, 0.5, 0.5, 0.5, 0.5, 0.5, 0.5],\n",
       "       [0.5, 0.5, 0.5, 0.5, 0.5, 0.5, 0.5, 0.5, 0.5, 0.5, 0.5],\n",
       "       [0.5, 0.5, 0.5, 0.5, 0.5, 0.5, 0.5, 0.5, 0.5, 0.5, 0.5],\n",
       "       [0.5, 0.5, 0.5, 0.5, 0.5, 0.5, 0.5, 0.5, 0.5, 0.5, 0.5],\n",
       "       [0.5, 0.5, 0.5, 0.5, 0.5, 0.5, 0.5, 0.5, 0.5, 0.5, 0.5],\n",
       "       [0.5, 0.5, 0.5, 0.5, 0.5, 0.5, 0.5, 0.5, 0.5, 0.5, 0.5],\n",
       "       [0.5, 0.5, 0.5, 0.5, 0.5, 0.5, 0.5, 0.5, 0.5, 0.5, 0.5],\n",
       "       [0.5, 0.5, 0.5, 0.5, 0.5, 0.5, 0.5, 0.5, 0.5, 0.5, 0.5],\n",
       "       [0.5, 0.5, 0.5, 0.5, 0.5, 0.5, 0.5, 0.5, 0.5, 0.5, 0.5],\n",
       "       [0.5, 0.5, 0.5, 0.5, 0.5, 0.5, 0.5, 0.5, 0.5, 0.5, 0.5],\n",
       "       [0.5, 0.5, 0.5, 0.5, 0.5, 0.5, 0.5, 0.5, 0.5, 0.5, 0.5],\n",
       "       [0.5, 0.5, 0.5, 0.5, 0.5, 0.5, 0.5, 0.5, 0.5, 0.5, 0.5],\n",
       "       [0.5, 0.5, 0.5, 0.5, 0.5, 0.5, 0.5, 0.5, 0.5, 0.5, 0.5],\n",
       "       [0.5, 0.5, 0.5, 0.5, 0.5, 0.5, 0.5, 0.5, 0.5, 0.5, 0.5]])"
      ]
     },
     "execution_count": 25,
     "metadata": {},
     "output_type": "execute_result"
    }
   ],
   "source": [
    "myarray1"
   ]
  },
  {
   "cell_type": "code",
   "execution_count": 26,
   "id": "632d0e83-737e-4399-b223-1db991dd5c76",
   "metadata": {},
   "outputs": [],
   "source": [
    "# Update the 6th row with a value of 10.5\n",
    "\n",
    "myarray1[5] = 10.5"
   ]
  },
  {
   "cell_type": "code",
   "execution_count": 27,
   "id": "f8b587ce-8b3f-4d8a-a901-822d47081493",
   "metadata": {},
   "outputs": [
    {
     "data": {
      "text/plain": [
       "array([[ 0.5,  0.5,  0.5,  0.5,  0.5,  0.5,  0.5,  0.5,  0.5,  0.5,  0.5],\n",
       "       [ 0.5,  0.5,  0.5,  0.5,  0.5,  0.5,  0.5,  0.5,  0.5,  0.5,  0.5],\n",
       "       [ 0.5,  0.5,  0.5,  0.5,  0.5,  0.5,  0.5,  0.5,  0.5,  0.5,  0.5],\n",
       "       [ 0.5,  0.5,  0.5,  0.5,  0.5,  0.5,  0.5,  0.5,  0.5,  0.5,  0.5],\n",
       "       [ 0.5,  0.5,  0.5,  0.5,  0.5,  0.5,  0.5,  0.5,  0.5,  0.5,  0.5],\n",
       "       [10.5, 10.5, 10.5, 10.5, 10.5, 10.5, 10.5, 10.5, 10.5, 10.5, 10.5],\n",
       "       [ 0.5,  0.5,  0.5,  0.5,  0.5,  0.5,  0.5,  0.5,  0.5,  0.5,  0.5],\n",
       "       [ 0.5,  0.5,  0.5,  0.5,  0.5,  0.5,  0.5,  0.5,  0.5,  0.5,  0.5],\n",
       "       [ 0.5,  0.5,  0.5,  0.5,  0.5,  0.5,  0.5,  0.5,  0.5,  0.5,  0.5],\n",
       "       [ 0.5,  0.5,  0.5,  0.5,  0.5,  0.5,  0.5,  0.5,  0.5,  0.5,  0.5],\n",
       "       [ 0.5,  0.5,  0.5,  0.5,  0.5,  0.5,  0.5,  0.5,  0.5,  0.5,  0.5],\n",
       "       [ 0.5,  0.5,  0.5,  0.5,  0.5,  0.5,  0.5,  0.5,  0.5,  0.5,  0.5],\n",
       "       [ 0.5,  0.5,  0.5,  0.5,  0.5,  0.5,  0.5,  0.5,  0.5,  0.5,  0.5],\n",
       "       [ 0.5,  0.5,  0.5,  0.5,  0.5,  0.5,  0.5,  0.5,  0.5,  0.5,  0.5],\n",
       "       [ 0.5,  0.5,  0.5,  0.5,  0.5,  0.5,  0.5,  0.5,  0.5,  0.5,  0.5],\n",
       "       [ 0.5,  0.5,  0.5,  0.5,  0.5,  0.5,  0.5,  0.5,  0.5,  0.5,  0.5],\n",
       "       [ 0.5,  0.5,  0.5,  0.5,  0.5,  0.5,  0.5,  0.5,  0.5,  0.5,  0.5],\n",
       "       [ 0.5,  0.5,  0.5,  0.5,  0.5,  0.5,  0.5,  0.5,  0.5,  0.5,  0.5],\n",
       "       [ 0.5,  0.5,  0.5,  0.5,  0.5,  0.5,  0.5,  0.5,  0.5,  0.5,  0.5],\n",
       "       [ 0.5,  0.5,  0.5,  0.5,  0.5,  0.5,  0.5,  0.5,  0.5,  0.5,  0.5]])"
      ]
     },
     "execution_count": 27,
     "metadata": {},
     "output_type": "execute_result"
    }
   ],
   "source": [
    "myarray1"
   ]
  },
  {
   "cell_type": "code",
   "execution_count": 28,
   "id": "d773f5d4-28db-4d9c-aa1b-0ebff1fb4d2b",
   "metadata": {},
   "outputs": [],
   "source": [
    "# Update the 7th row with a value of 11.5\n",
    "\n",
    "myarray1[6] = 11.5"
   ]
  },
  {
   "cell_type": "code",
   "execution_count": 29,
   "id": "0eef6f24-121e-47f4-b007-34934ecfe1c7",
   "metadata": {},
   "outputs": [
    {
     "data": {
      "text/plain": [
       "array([[ 0.5,  0.5,  0.5,  0.5,  0.5,  0.5,  0.5,  0.5,  0.5,  0.5,  0.5],\n",
       "       [ 0.5,  0.5,  0.5,  0.5,  0.5,  0.5,  0.5,  0.5,  0.5,  0.5,  0.5],\n",
       "       [ 0.5,  0.5,  0.5,  0.5,  0.5,  0.5,  0.5,  0.5,  0.5,  0.5,  0.5],\n",
       "       [ 0.5,  0.5,  0.5,  0.5,  0.5,  0.5,  0.5,  0.5,  0.5,  0.5,  0.5],\n",
       "       [ 0.5,  0.5,  0.5,  0.5,  0.5,  0.5,  0.5,  0.5,  0.5,  0.5,  0.5],\n",
       "       [10.5, 10.5, 10.5, 10.5, 10.5, 10.5, 10.5, 10.5, 10.5, 10.5, 10.5],\n",
       "       [11.5, 11.5, 11.5, 11.5, 11.5, 11.5, 11.5, 11.5, 11.5, 11.5, 11.5],\n",
       "       [ 0.5,  0.5,  0.5,  0.5,  0.5,  0.5,  0.5,  0.5,  0.5,  0.5,  0.5],\n",
       "       [ 0.5,  0.5,  0.5,  0.5,  0.5,  0.5,  0.5,  0.5,  0.5,  0.5,  0.5],\n",
       "       [ 0.5,  0.5,  0.5,  0.5,  0.5,  0.5,  0.5,  0.5,  0.5,  0.5,  0.5],\n",
       "       [ 0.5,  0.5,  0.5,  0.5,  0.5,  0.5,  0.5,  0.5,  0.5,  0.5,  0.5],\n",
       "       [ 0.5,  0.5,  0.5,  0.5,  0.5,  0.5,  0.5,  0.5,  0.5,  0.5,  0.5],\n",
       "       [ 0.5,  0.5,  0.5,  0.5,  0.5,  0.5,  0.5,  0.5,  0.5,  0.5,  0.5],\n",
       "       [ 0.5,  0.5,  0.5,  0.5,  0.5,  0.5,  0.5,  0.5,  0.5,  0.5,  0.5],\n",
       "       [ 0.5,  0.5,  0.5,  0.5,  0.5,  0.5,  0.5,  0.5,  0.5,  0.5,  0.5],\n",
       "       [ 0.5,  0.5,  0.5,  0.5,  0.5,  0.5,  0.5,  0.5,  0.5,  0.5,  0.5],\n",
       "       [ 0.5,  0.5,  0.5,  0.5,  0.5,  0.5,  0.5,  0.5,  0.5,  0.5,  0.5],\n",
       "       [ 0.5,  0.5,  0.5,  0.5,  0.5,  0.5,  0.5,  0.5,  0.5,  0.5,  0.5],\n",
       "       [ 0.5,  0.5,  0.5,  0.5,  0.5,  0.5,  0.5,  0.5,  0.5,  0.5,  0.5],\n",
       "       [ 0.5,  0.5,  0.5,  0.5,  0.5,  0.5,  0.5,  0.5,  0.5,  0.5,  0.5]])"
      ]
     },
     "execution_count": 29,
     "metadata": {},
     "output_type": "execute_result"
    }
   ],
   "source": [
    "myarray1"
   ]
  },
  {
   "cell_type": "code",
   "execution_count": 30,
   "id": "5e1a856c-26e2-4bd6-983a-49e31742b50e",
   "metadata": {},
   "outputs": [],
   "source": [
    "# Update the 1st column with a value of 9.5\n",
    "\n",
    "myarray1[:,0] = 9.5"
   ]
  },
  {
   "cell_type": "code",
   "execution_count": 31,
   "id": "fdb45e56-b5cd-4bcf-a8d2-905ce7ce952e",
   "metadata": {},
   "outputs": [
    {
     "data": {
      "text/plain": [
       "array([[ 9.5,  0.5,  0.5,  0.5,  0.5,  0.5,  0.5,  0.5,  0.5,  0.5,  0.5],\n",
       "       [ 9.5,  0.5,  0.5,  0.5,  0.5,  0.5,  0.5,  0.5,  0.5,  0.5,  0.5],\n",
       "       [ 9.5,  0.5,  0.5,  0.5,  0.5,  0.5,  0.5,  0.5,  0.5,  0.5,  0.5],\n",
       "       [ 9.5,  0.5,  0.5,  0.5,  0.5,  0.5,  0.5,  0.5,  0.5,  0.5,  0.5],\n",
       "       [ 9.5,  0.5,  0.5,  0.5,  0.5,  0.5,  0.5,  0.5,  0.5,  0.5,  0.5],\n",
       "       [ 9.5, 10.5, 10.5, 10.5, 10.5, 10.5, 10.5, 10.5, 10.5, 10.5, 10.5],\n",
       "       [ 9.5, 11.5, 11.5, 11.5, 11.5, 11.5, 11.5, 11.5, 11.5, 11.5, 11.5],\n",
       "       [ 9.5,  0.5,  0.5,  0.5,  0.5,  0.5,  0.5,  0.5,  0.5,  0.5,  0.5],\n",
       "       [ 9.5,  0.5,  0.5,  0.5,  0.5,  0.5,  0.5,  0.5,  0.5,  0.5,  0.5],\n",
       "       [ 9.5,  0.5,  0.5,  0.5,  0.5,  0.5,  0.5,  0.5,  0.5,  0.5,  0.5],\n",
       "       [ 9.5,  0.5,  0.5,  0.5,  0.5,  0.5,  0.5,  0.5,  0.5,  0.5,  0.5],\n",
       "       [ 9.5,  0.5,  0.5,  0.5,  0.5,  0.5,  0.5,  0.5,  0.5,  0.5,  0.5],\n",
       "       [ 9.5,  0.5,  0.5,  0.5,  0.5,  0.5,  0.5,  0.5,  0.5,  0.5,  0.5],\n",
       "       [ 9.5,  0.5,  0.5,  0.5,  0.5,  0.5,  0.5,  0.5,  0.5,  0.5,  0.5],\n",
       "       [ 9.5,  0.5,  0.5,  0.5,  0.5,  0.5,  0.5,  0.5,  0.5,  0.5,  0.5],\n",
       "       [ 9.5,  0.5,  0.5,  0.5,  0.5,  0.5,  0.5,  0.5,  0.5,  0.5,  0.5],\n",
       "       [ 9.5,  0.5,  0.5,  0.5,  0.5,  0.5,  0.5,  0.5,  0.5,  0.5,  0.5],\n",
       "       [ 9.5,  0.5,  0.5,  0.5,  0.5,  0.5,  0.5,  0.5,  0.5,  0.5,  0.5],\n",
       "       [ 9.5,  0.5,  0.5,  0.5,  0.5,  0.5,  0.5,  0.5,  0.5,  0.5,  0.5],\n",
       "       [ 9.5,  0.5,  0.5,  0.5,  0.5,  0.5,  0.5,  0.5,  0.5,  0.5,  0.5]])"
      ]
     },
     "execution_count": 31,
     "metadata": {},
     "output_type": "execute_result"
    }
   ],
   "source": [
    "myarray1"
   ]
  },
  {
   "cell_type": "code",
   "execution_count": 32,
   "id": "f5e30239-d0a0-428f-8e5a-7a3ec2959a5a",
   "metadata": {},
   "outputs": [
    {
     "data": {
      "text/plain": [
       "array([[ 9.5,  0.5,  0.5,  0.5,  0.5,  0.5,  0.5,  0.5,  0.5,  0.5,  0.5],\n",
       "       [ 9.5, 10.5, 10.5, 10.5, 10.5, 10.5, 10.5, 10.5, 10.5, 10.5, 10.5],\n",
       "       [ 9.5, 11.5, 11.5, 11.5, 11.5, 11.5, 11.5, 11.5, 11.5, 11.5, 11.5],\n",
       "       [ 9.5,  0.5,  0.5,  0.5,  0.5,  0.5,  0.5,  0.5,  0.5,  0.5,  0.5],\n",
       "       [ 9.5,  0.5,  0.5,  0.5,  0.5,  0.5,  0.5,  0.5,  0.5,  0.5,  0.5],\n",
       "       [ 9.5,  0.5,  0.5,  0.5,  0.5,  0.5,  0.5,  0.5,  0.5,  0.5,  0.5],\n",
       "       [ 9.5,  0.5,  0.5,  0.5,  0.5,  0.5,  0.5,  0.5,  0.5,  0.5,  0.5]])"
      ]
     },
     "execution_count": 32,
     "metadata": {},
     "output_type": "execute_result"
    }
   ],
   "source": [
    "# Slice the 5th row to the 11st row in myarray1\n",
    "\n",
    "myarray1[4:11,:]"
   ]
  },
  {
   "cell_type": "code",
   "execution_count": 33,
   "id": "9ac212b7-dee1-4345-8c10-144f0934ba5e",
   "metadata": {},
   "outputs": [
    {
     "data": {
      "text/plain": [
       "array([[ 0.5,  0.5,  0.5,  0.5],\n",
       "       [ 0.5,  0.5,  0.5,  0.5],\n",
       "       [ 0.5,  0.5,  0.5,  0.5],\n",
       "       [ 0.5,  0.5,  0.5,  0.5],\n",
       "       [ 0.5,  0.5,  0.5,  0.5],\n",
       "       [10.5, 10.5, 10.5, 10.5],\n",
       "       [11.5, 11.5, 11.5, 11.5],\n",
       "       [ 0.5,  0.5,  0.5,  0.5],\n",
       "       [ 0.5,  0.5,  0.5,  0.5],\n",
       "       [ 0.5,  0.5,  0.5,  0.5],\n",
       "       [ 0.5,  0.5,  0.5,  0.5],\n",
       "       [ 0.5,  0.5,  0.5,  0.5],\n",
       "       [ 0.5,  0.5,  0.5,  0.5],\n",
       "       [ 0.5,  0.5,  0.5,  0.5],\n",
       "       [ 0.5,  0.5,  0.5,  0.5],\n",
       "       [ 0.5,  0.5,  0.5,  0.5],\n",
       "       [ 0.5,  0.5,  0.5,  0.5],\n",
       "       [ 0.5,  0.5,  0.5,  0.5],\n",
       "       [ 0.5,  0.5,  0.5,  0.5],\n",
       "       [ 0.5,  0.5,  0.5,  0.5]])"
      ]
     },
     "execution_count": 33,
     "metadata": {},
     "output_type": "execute_result"
    }
   ],
   "source": [
    "# Slice the 6th column to 9th column in myarray1\n",
    "\n",
    "myarray1[:,5:9]"
   ]
  },
  {
   "cell_type": "code",
   "execution_count": 34,
   "id": "f354ae20-5bc5-4a21-8c7c-37e711bdbf8c",
   "metadata": {},
   "outputs": [],
   "source": [
    "# Merge the 6th column with the 8th column using np.hstack\n",
    "\n",
    "myarray1_col6 = myarray1[:,5]"
   ]
  },
  {
   "cell_type": "code",
   "execution_count": 35,
   "id": "ce46500d-4b6f-4fc4-92e6-5c14cbf05a73",
   "metadata": {},
   "outputs": [
    {
     "data": {
      "text/plain": [
       "array([ 0.5,  0.5,  0.5,  0.5,  0.5, 10.5, 11.5,  0.5,  0.5,  0.5,  0.5,\n",
       "        0.5,  0.5,  0.5,  0.5,  0.5,  0.5,  0.5,  0.5,  0.5])"
      ]
     },
     "execution_count": 35,
     "metadata": {},
     "output_type": "execute_result"
    }
   ],
   "source": [
    "myarray1_col6"
   ]
  },
  {
   "cell_type": "code",
   "execution_count": 36,
   "id": "0f4a7ede-044d-403d-99b8-27836dbe5264",
   "metadata": {},
   "outputs": [],
   "source": [
    "myarray1_col6 = myarray1_col6.reshape(-1,1)"
   ]
  },
  {
   "cell_type": "code",
   "execution_count": 37,
   "id": "d9b9c09e-7402-4afa-b14a-6105ccefe578",
   "metadata": {},
   "outputs": [
    {
     "data": {
      "text/plain": [
       "array([[ 0.5],\n",
       "       [ 0.5],\n",
       "       [ 0.5],\n",
       "       [ 0.5],\n",
       "       [ 0.5],\n",
       "       [10.5],\n",
       "       [11.5],\n",
       "       [ 0.5],\n",
       "       [ 0.5],\n",
       "       [ 0.5],\n",
       "       [ 0.5],\n",
       "       [ 0.5],\n",
       "       [ 0.5],\n",
       "       [ 0.5],\n",
       "       [ 0.5],\n",
       "       [ 0.5],\n",
       "       [ 0.5],\n",
       "       [ 0.5],\n",
       "       [ 0.5],\n",
       "       [ 0.5]])"
      ]
     },
     "execution_count": 37,
     "metadata": {},
     "output_type": "execute_result"
    }
   ],
   "source": [
    "myarray1_col6"
   ]
  },
  {
   "cell_type": "code",
   "execution_count": 38,
   "id": "33270410-4e55-4bf5-b2b0-6c27348fb4c1",
   "metadata": {},
   "outputs": [],
   "source": [
    "myarray1_col8 = myarray1[:,8]"
   ]
  },
  {
   "cell_type": "code",
   "execution_count": 39,
   "id": "72e463b7-bd19-4754-bf49-a4c129d8da68",
   "metadata": {},
   "outputs": [
    {
     "data": {
      "text/plain": [
       "array([ 0.5,  0.5,  0.5,  0.5,  0.5, 10.5, 11.5,  0.5,  0.5,  0.5,  0.5,\n",
       "        0.5,  0.5,  0.5,  0.5,  0.5,  0.5,  0.5,  0.5,  0.5])"
      ]
     },
     "execution_count": 39,
     "metadata": {},
     "output_type": "execute_result"
    }
   ],
   "source": [
    "myarray1_col8"
   ]
  },
  {
   "cell_type": "code",
   "execution_count": 40,
   "id": "8c33b2a2-3af2-4415-97fb-fdc5661387c7",
   "metadata": {},
   "outputs": [],
   "source": [
    "myarray1_col8 = myarray1_col8.reshape(-1,1)"
   ]
  },
  {
   "cell_type": "code",
   "execution_count": 41,
   "id": "eb6a7e84-bd6d-4c76-a69f-52ba866ee925",
   "metadata": {},
   "outputs": [
    {
     "data": {
      "text/plain": [
       "array([[ 0.5],\n",
       "       [ 0.5],\n",
       "       [ 0.5],\n",
       "       [ 0.5],\n",
       "       [ 0.5],\n",
       "       [10.5],\n",
       "       [11.5],\n",
       "       [ 0.5],\n",
       "       [ 0.5],\n",
       "       [ 0.5],\n",
       "       [ 0.5],\n",
       "       [ 0.5],\n",
       "       [ 0.5],\n",
       "       [ 0.5],\n",
       "       [ 0.5],\n",
       "       [ 0.5],\n",
       "       [ 0.5],\n",
       "       [ 0.5],\n",
       "       [ 0.5],\n",
       "       [ 0.5]])"
      ]
     },
     "execution_count": 41,
     "metadata": {},
     "output_type": "execute_result"
    }
   ],
   "source": [
    "myarray1_col8"
   ]
  },
  {
   "cell_type": "code",
   "execution_count": 42,
   "id": "552bc223-0b25-496b-a188-5b8b8e993d97",
   "metadata": {},
   "outputs": [],
   "source": [
    "myarray1_hstack = np.hstack((myarray1_col6,myarray1_col8))"
   ]
  },
  {
   "cell_type": "code",
   "execution_count": 43,
   "id": "0d9757a5-7615-4ee3-88f2-ea1fea74e543",
   "metadata": {},
   "outputs": [
    {
     "data": {
      "text/plain": [
       "array([[ 0.5,  0.5],\n",
       "       [ 0.5,  0.5],\n",
       "       [ 0.5,  0.5],\n",
       "       [ 0.5,  0.5],\n",
       "       [ 0.5,  0.5],\n",
       "       [10.5, 10.5],\n",
       "       [11.5, 11.5],\n",
       "       [ 0.5,  0.5],\n",
       "       [ 0.5,  0.5],\n",
       "       [ 0.5,  0.5],\n",
       "       [ 0.5,  0.5],\n",
       "       [ 0.5,  0.5],\n",
       "       [ 0.5,  0.5],\n",
       "       [ 0.5,  0.5],\n",
       "       [ 0.5,  0.5],\n",
       "       [ 0.5,  0.5],\n",
       "       [ 0.5,  0.5],\n",
       "       [ 0.5,  0.5],\n",
       "       [ 0.5,  0.5],\n",
       "       [ 0.5,  0.5]])"
      ]
     },
     "execution_count": 43,
     "metadata": {},
     "output_type": "execute_result"
    }
   ],
   "source": [
    "myarray1_hstack"
   ]
  },
  {
   "cell_type": "code",
   "execution_count": 44,
   "id": "96f8fb03-8813-4e0a-830d-388b8ea708e8",
   "metadata": {},
   "outputs": [],
   "source": [
    "# Merge the 5th column with the 10th column using np.vstack\n",
    "\n",
    "myarray1_col5 = myarray1[:,4]"
   ]
  },
  {
   "cell_type": "code",
   "execution_count": 45,
   "id": "496bea94-f350-4854-a8c0-7b68c4338a97",
   "metadata": {},
   "outputs": [
    {
     "data": {
      "text/plain": [
       "array([ 0.5,  0.5,  0.5,  0.5,  0.5, 10.5, 11.5,  0.5,  0.5,  0.5,  0.5,\n",
       "        0.5,  0.5,  0.5,  0.5,  0.5,  0.5,  0.5,  0.5,  0.5])"
      ]
     },
     "execution_count": 45,
     "metadata": {},
     "output_type": "execute_result"
    }
   ],
   "source": [
    "myarray1_col5"
   ]
  },
  {
   "cell_type": "code",
   "execution_count": 46,
   "id": "3283b140-7606-4ec6-b947-18822c13b898",
   "metadata": {},
   "outputs": [],
   "source": [
    "myarray1_col5 = myarray1_col5.reshape(-1,1)"
   ]
  },
  {
   "cell_type": "code",
   "execution_count": 47,
   "id": "ebce7017-c0b3-4d6b-8606-3d735b2f46b2",
   "metadata": {},
   "outputs": [
    {
     "data": {
      "text/plain": [
       "array([[ 0.5],\n",
       "       [ 0.5],\n",
       "       [ 0.5],\n",
       "       [ 0.5],\n",
       "       [ 0.5],\n",
       "       [10.5],\n",
       "       [11.5],\n",
       "       [ 0.5],\n",
       "       [ 0.5],\n",
       "       [ 0.5],\n",
       "       [ 0.5],\n",
       "       [ 0.5],\n",
       "       [ 0.5],\n",
       "       [ 0.5],\n",
       "       [ 0.5],\n",
       "       [ 0.5],\n",
       "       [ 0.5],\n",
       "       [ 0.5],\n",
       "       [ 0.5],\n",
       "       [ 0.5]])"
      ]
     },
     "execution_count": 47,
     "metadata": {},
     "output_type": "execute_result"
    }
   ],
   "source": [
    "myarray1_col5"
   ]
  },
  {
   "cell_type": "code",
   "execution_count": 48,
   "id": "a0e9fcea-d57f-4792-946f-2fb70d1266a7",
   "metadata": {},
   "outputs": [],
   "source": [
    "myarray1_col10 = myarray1[:,9]"
   ]
  },
  {
   "cell_type": "code",
   "execution_count": 49,
   "id": "9b7aea83-9036-4e38-989a-19e6a1deeb85",
   "metadata": {},
   "outputs": [
    {
     "data": {
      "text/plain": [
       "array([ 0.5,  0.5,  0.5,  0.5,  0.5, 10.5, 11.5,  0.5,  0.5,  0.5,  0.5,\n",
       "        0.5,  0.5,  0.5,  0.5,  0.5,  0.5,  0.5,  0.5,  0.5])"
      ]
     },
     "execution_count": 49,
     "metadata": {},
     "output_type": "execute_result"
    }
   ],
   "source": [
    "myarray1_col10"
   ]
  },
  {
   "cell_type": "code",
   "execution_count": 50,
   "id": "89a16d49-d5c8-4ec6-a76a-8061b5f027b6",
   "metadata": {},
   "outputs": [],
   "source": [
    "myarray1_col10 = myarray1_col10.reshape(-1,1)"
   ]
  },
  {
   "cell_type": "code",
   "execution_count": 51,
   "id": "374aa5e8-5cf1-4ed8-8254-9d690fc5b1f4",
   "metadata": {},
   "outputs": [
    {
     "data": {
      "text/plain": [
       "array([[ 0.5],\n",
       "       [ 0.5],\n",
       "       [ 0.5],\n",
       "       [ 0.5],\n",
       "       [ 0.5],\n",
       "       [10.5],\n",
       "       [11.5],\n",
       "       [ 0.5],\n",
       "       [ 0.5],\n",
       "       [ 0.5],\n",
       "       [ 0.5],\n",
       "       [ 0.5],\n",
       "       [ 0.5],\n",
       "       [ 0.5],\n",
       "       [ 0.5],\n",
       "       [ 0.5],\n",
       "       [ 0.5],\n",
       "       [ 0.5],\n",
       "       [ 0.5],\n",
       "       [ 0.5]])"
      ]
     },
     "execution_count": 51,
     "metadata": {},
     "output_type": "execute_result"
    }
   ],
   "source": [
    "myarray1_col10"
   ]
  },
  {
   "cell_type": "code",
   "execution_count": 52,
   "id": "90530bab-14c8-47b8-8e49-25d5514cefaf",
   "metadata": {},
   "outputs": [],
   "source": [
    "myarray1_vstack = np.vstack((myarray1_col5,myarray1_col10))"
   ]
  },
  {
   "cell_type": "code",
   "execution_count": 53,
   "id": "477d434a-53b4-4f79-908c-aa7878c12ed6",
   "metadata": {},
   "outputs": [
    {
     "data": {
      "text/plain": [
       "array([[ 0.5],\n",
       "       [ 0.5],\n",
       "       [ 0.5],\n",
       "       [ 0.5],\n",
       "       [ 0.5],\n",
       "       [10.5],\n",
       "       [11.5],\n",
       "       [ 0.5],\n",
       "       [ 0.5],\n",
       "       [ 0.5],\n",
       "       [ 0.5],\n",
       "       [ 0.5],\n",
       "       [ 0.5],\n",
       "       [ 0.5],\n",
       "       [ 0.5],\n",
       "       [ 0.5],\n",
       "       [ 0.5],\n",
       "       [ 0.5],\n",
       "       [ 0.5],\n",
       "       [ 0.5],\n",
       "       [ 0.5],\n",
       "       [ 0.5],\n",
       "       [ 0.5],\n",
       "       [ 0.5],\n",
       "       [ 0.5],\n",
       "       [10.5],\n",
       "       [11.5],\n",
       "       [ 0.5],\n",
       "       [ 0.5],\n",
       "       [ 0.5],\n",
       "       [ 0.5],\n",
       "       [ 0.5],\n",
       "       [ 0.5],\n",
       "       [ 0.5],\n",
       "       [ 0.5],\n",
       "       [ 0.5],\n",
       "       [ 0.5],\n",
       "       [ 0.5],\n",
       "       [ 0.5],\n",
       "       [ 0.5]])"
      ]
     },
     "execution_count": 53,
     "metadata": {},
     "output_type": "execute_result"
    }
   ],
   "source": [
    "myarray1_vstack"
   ]
  }
 ],
 "metadata": {
  "kernelspec": {
   "display_name": "Python 3 (ipykernel)",
   "language": "python",
   "name": "python3"
  },
  "language_info": {
   "codemirror_mode": {
    "name": "ipython",
    "version": 3
   },
   "file_extension": ".py",
   "mimetype": "text/x-python",
   "name": "python",
   "nbconvert_exporter": "python",
   "pygments_lexer": "ipython3",
   "version": "3.9.12"
  }
 },
 "nbformat": 4,
 "nbformat_minor": 5
}
